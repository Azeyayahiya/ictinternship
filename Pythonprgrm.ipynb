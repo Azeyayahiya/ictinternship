{
  "nbformat": 4,
  "nbformat_minor": 0,
  "metadata": {
    "colab": {
      "provenance": [],
      "authorship_tag": "ABX9TyPiDnuT27UbpLPNRF8siqze",
      "include_colab_link": true
    },
    "kernelspec": {
      "name": "python3",
      "display_name": "Python 3"
    },
    "language_info": {
      "name": "python"
    }
  },
  "cells": [
    {
      "cell_type": "markdown",
      "metadata": {
        "id": "view-in-github",
        "colab_type": "text"
      },
      "source": [
        "<a href=\"https://colab.research.google.com/github/Azeyayahiya/ictinternship/blob/day1/Pythonprgrm.ipynb\" target=\"_parent\"><img src=\"https://colab.research.google.com/assets/colab-badge.svg\" alt=\"Open In Colab\"/></a>"
      ]
    },
    {
      "cell_type": "code",
      "execution_count": null,
      "metadata": {
        "colab": {
          "base_uri": "https://localhost:8080/"
        },
        "id": "fB-QWYN9CeHG",
        "outputId": "4a620e4b-43e2-4e44-d2b6-1e7a1df6e311"
      },
      "outputs": [
        {
          "output_type": "stream",
          "name": "stdout",
          "text": [
            "Please Enter any Side of a Square  : 4\n",
            "Square Star Pattern\n",
            "*  *  *  *  \n",
            "*  *  *  *  \n",
            "*  *  *  *  \n",
            "*  *  *  *  \n"
          ]
        }
      ],
      "source": [
        "side = int(input(\"Please Enter any Side of a Square  : \"))\n",
        "\n",
        "print(\"Square Star Pattern\") \n",
        "\n",
        "for i in range(side):\n",
        "    for i in range(side):\n",
        "        print('*', end = '  ')\n",
        "    print()"
      ]
    },
    {
      "cell_type": "code",
      "source": [],
      "metadata": {
        "id": "3t5e_0U1drBS"
      },
      "execution_count": null,
      "outputs": []
    },
    {
      "cell_type": "code",
      "source": [
        "side = int(input(\"Please Enter any Side of a Square  : \"))\n",
        "i = 0\n",
        "print(\"Square Star Pattern\") \n",
        "\n",
        "while(i < side):\n",
        "    j = 0\n",
        "    while(j < side):      \n",
        "        j = j + 1\n",
        "        print('*', end = '  ')\n",
        "    i = i + 1\n",
        "    print('')"
      ],
      "metadata": {
        "colab": {
          "base_uri": "https://localhost:8080/"
        },
        "id": "8e_OikvKISQg",
        "outputId": "a5d97769-e0ef-469d-e130-9baf9bf18846"
      },
      "execution_count": null,
      "outputs": [
        {
          "output_type": "stream",
          "name": "stdout",
          "text": [
            "Please Enter any Side of a Square  : 2\n",
            "Square Star Pattern\n",
            "*  *  \n",
            "*  *  \n"
          ]
        }
      ]
    },
    {
      "cell_type": "code",
      "source": [
        "array=['devu','amrutha','azeya']\n",
        "for i in range(len(array)-1,-1,-1):\n",
        "  print (array[i])"
      ],
      "metadata": {
        "colab": {
          "base_uri": "https://localhost:8080/"
        },
        "id": "C9cw8VOaLGqK",
        "outputId": "55b6a11b-25bb-4ad9-ea13-a541bd78e1a1"
      },
      "execution_count": null,
      "outputs": [
        {
          "output_type": "stream",
          "name": "stdout",
          "text": [
            "azeya\n",
            "amrutha\n",
            "devu\n"
          ]
        }
      ]
    },
    {
      "cell_type": "code",
      "source": [
        "print(233)"
      ],
      "metadata": {
        "colab": {
          "base_uri": "https://localhost:8080/"
        },
        "id": "jeltI1VxTPab",
        "outputId": "22a91ece-03e4-4aac-d838-88bb78b4ee03"
      },
      "execution_count": null,
      "outputs": [
        {
          "output_type": "stream",
          "name": "stdout",
          "text": [
            "233\n"
          ]
        }
      ]
    },
    {
      "cell_type": "code",
      "source": [
        "print(\"welcome to\",end='')"
      ],
      "metadata": {
        "colab": {
          "base_uri": "https://localhost:8080/"
        },
        "id": "bFWhQ_mgTT5P",
        "outputId": "052e92b5-1196-4e08-c41d-73d52b31670b"
      },
      "execution_count": null,
      "outputs": [
        {
          "output_type": "stream",
          "name": "stdout",
          "text": [
            "welcome to"
          ]
        }
      ]
    },
    {
      "cell_type": "code",
      "source": [
        "print(\"thr world of python\",end='!')"
      ],
      "metadata": {
        "colab": {
          "base_uri": "https://localhost:8080/"
        },
        "id": "qhvxzeWYTeCI",
        "outputId": "d7d99b54-3365-445e-a89c-d4b29f2721ed"
      },
      "execution_count": null,
      "outputs": [
        {
          "output_type": "stream",
          "name": "stdout",
          "text": [
            "thr world of python!"
          ]
        }
      ]
    },
    {
      "cell_type": "code",
      "source": [
        "print(\"\\\"welcome to the world or python\\\"\")"
      ],
      "metadata": {
        "colab": {
          "base_uri": "https://localhost:8080/"
        },
        "id": "ffrn_a7DTpQd",
        "outputId": "4bc214b1-db79-4ef0-b155-6b55f8c4db88"
      },
      "execution_count": null,
      "outputs": [
        {
          "output_type": "stream",
          "name": "stdout",
          "text": [
            "\"welcome to the world or python\"\n"
          ]
        }
      ]
    },
    {
      "cell_type": "code",
      "source": [
        "print(\"azeya\"*5)"
      ],
      "metadata": {
        "colab": {
          "base_uri": "https://localhost:8080/"
        },
        "id": "psrFycTuW9pI",
        "outputId": "47103d4b-37e1-4fb0-aa50-157a64bf22e7"
      },
      "execution_count": null,
      "outputs": [
        {
          "output_type": "stream",
          "name": "stdout",
          "text": [
            "azeyaazeyaazeyaazeyaazeya\n"
          ]
        }
      ]
    },
    {
      "cell_type": "code",
      "source": [
        "s=\"azeya\"\n",
        "print(s[0])\n",
        "print(s[-3])\n",
        "print(s[1])\n",
        "print(len(s))"
      ],
      "metadata": {
        "colab": {
          "base_uri": "https://localhost:8080/"
        },
        "id": "qWSgRdKsYBZE",
        "outputId": "bef662a2-ee96-4b0d-b1b8-38ecd74b247b"
      },
      "execution_count": null,
      "outputs": [
        {
          "output_type": "stream",
          "name": "stdout",
          "text": [
            "a\n",
            "e\n",
            "z\n",
            "5\n"
          ]
        }
      ]
    },
    {
      "cell_type": "code",
      "source": [
        "s=\"python\"\n",
        "s=\"python\"\n"
      ],
      "metadata": {
        "colab": {
          "base_uri": "https://localhost:8080/"
        },
        "id": "Xn7oQtDQYiUr",
        "outputId": "ef22370b-60fa-44d8-a455-64f3871b7e7c"
      },
      "execution_count": null,
      "outputs": [
        {
          "output_type": "stream",
          "name": "stdout",
          "text": [
            "pyth\n"
          ]
        }
      ]
    },
    {
      "cell_type": "code",
      "source": [
        "animals=[\"cat\",\"dog\",\"mouse\"]\n",
        "for animals in animals:\n",
        "print(\"hi\" +animals)"
      ],
      "metadata": {
        "colab": {
          "base_uri": "https://localhost:8080/",
          "height": 130
        },
        "id": "0hC6QK7ZY3t1",
        "outputId": "7eb18972-18e6-494f-978f-b728e158e1e2"
      },
      "execution_count": null,
      "outputs": [
        {
          "output_type": "error",
          "ename": "IndentationError",
          "evalue": "ignored",
          "traceback": [
            "\u001b[0;36m  File \u001b[0;32m\"<ipython-input-4-d35fe6385bb8>\"\u001b[0;36m, line \u001b[0;32m3\u001b[0m\n\u001b[0;31m    print(\"hi\" +animals)\u001b[0m\n\u001b[0m    ^\u001b[0m\n\u001b[0;31mIndentationError\u001b[0m\u001b[0;31m:\u001b[0m expected an indented block after 'for' statement on line 2\n"
          ]
        }
      ]
    },
    {
      "cell_type": "code",
      "source": [
        "a = 1\n",
        "while a < 10:\n",
        "  print (a)\n",
        "  a += 2"
      ],
      "metadata": {
        "colab": {
          "base_uri": "https://localhost:8080/"
        },
        "id": "gz6Zgodwt5Iy",
        "outputId": "601f7292-b632-4b65-aa8c-0a817b6d8f0b"
      },
      "execution_count": null,
      "outputs": [
        {
          "output_type": "stream",
          "name": "stdout",
          "text": [
            "1\n",
            "3\n",
            "5\n",
            "7\n",
            "9\n"
          ]
        }
      ]
    },
    {
      "cell_type": "code",
      "source": [
        "for val in \"string\":\n",
        "  if val ==\"i\":\n",
        "    continue\n",
        "  print(val)\n",
        "  print(\"the end\")"
      ],
      "metadata": {
        "colab": {
          "base_uri": "https://localhost:8080/"
        },
        "id": "BARxZkkeuYIB",
        "outputId": "d9933689-7664-4c9c-ac81-72ad7de9b8cc"
      },
      "execution_count": null,
      "outputs": [
        {
          "output_type": "stream",
          "name": "stdout",
          "text": [
            "s\n",
            "the end\n",
            "t\n",
            "the end\n",
            "r\n",
            "the end\n",
            "n\n",
            "the end\n",
            "g\n",
            "the end\n"
          ]
        }
      ]
    },
    {
      "cell_type": "code",
      "source": [
        "print(\"calculator\")\n",
        "print(\"1.addition\")\n",
        "print(\"2.subtraction\")\n",
        "print(\"3.multiplication\")\n",
        "print(\"4.quotient\")\n",
        "ch=int(input(\"Enter Choice(1-4): \"))\n",
        "if ch==1:\n",
        "    a=int(input(\"Enter A:\"))\n",
        "    b=int(input(\"Enter B:\"))\n",
        "    c=a+b\n",
        "    print(\"Sum = \",c)\n",
        "elif ch==2:\n",
        "   a=int(input(\"enter A:\"))\n",
        "   b=int(input(\"enter b:\"))\n",
        "   c=a-b\n",
        "   print(\"subtraction= \",c)\n",
        "elif ch==3:\n",
        "   a=int(input(\"enter A:\"))\n",
        "   b=int(input(\"enter b:\"))\n",
        "   c=a*b\n",
        "   print(\"multiplication= \",c)\n",
        "elif ch==3:\n",
        "   a=int(input(\"enter A:\"))\n",
        "   b=int(input(\"enter b:\"))\n",
        "   c=a*b\n",
        "   print(\"division= \",c)\n",
        "else:\n",
        "  print(\"invalid coice\")      \n",
        "\n",
        "\n",
        "      \n",
        "\n",
        "\n"
      ],
      "metadata": {
        "colab": {
          "base_uri": "https://localhost:8080/"
        },
        "id": "jHbS0FMbxS0k",
        "outputId": "a2b94eda-a3c0-4c00-c864-133956af5ffd"
      },
      "execution_count": null,
      "outputs": [
        {
          "output_type": "stream",
          "name": "stdout",
          "text": [
            "calculator\n",
            "1.addition\n",
            "2.subtraction\n",
            "3.multiplication\n",
            "4.quotient\n",
            "Enter Choice(1-4): 2\n",
            "enter A:12\n",
            "enter b:4\n",
            "subtraction=  8\n"
          ]
        }
      ]
    },
    {
      "cell_type": "code",
      "source": [],
      "metadata": {
        "colab": {
          "base_uri": "https://localhost:8080/"
        },
        "id": "vZhItGWE1v6d",
        "outputId": "f2f63fa1-9f53-46d8-f279-3420f05712c4"
      },
      "execution_count": null,
      "outputs": [
        {
          "output_type": "stream",
          "name": "stdout",
          "text": [
            "enter the number: 12\n",
            "Not Prime\n"
          ]
        }
      ]
    },
    {
      "cell_type": "code",
      "source": [
        "num = int(input(\"Enter a number: \"))\n",
        "if num > 1:  \n",
        "   for i in range(2,num):\n",
        "       if (num % i) == 0:\n",
        "           print(num,\"is not a prime number\")\n",
        "           break\n",
        "   else:\n",
        "       print(num,\"is a prime number\")\n",
        "       \n",
        "else:\n",
        "   print(num,\"is not a prime number\")"
      ],
      "metadata": {
        "colab": {
          "base_uri": "https://localhost:8080/"
        },
        "id": "npyN6hj03E-R",
        "outputId": "0d625b83-d457-4925-c2ef-7c5bc1a73052"
      },
      "execution_count": null,
      "outputs": [
        {
          "output_type": "stream",
          "name": "stdout",
          "text": [
            "Enter a number: 12\n",
            "12 is not a prime number\n"
          ]
        }
      ]
    },
    {
      "cell_type": "code",
      "source": [],
      "metadata": {
        "id": "gIGCMIsJ3N2w"
      },
      "execution_count": null,
      "outputs": []
    },
    {
      "cell_type": "code",
      "source": [
        "year=int(input(\"Enter year to be checked:\"))\n",
        "if(year%4==0 and year%100!=0 or year%400==0):\n",
        "    print(\"The year is a leap year!\")\n",
        "else:\n",
        "    print(\"The year isn't a leap year!\")"
      ],
      "metadata": {
        "colab": {
          "base_uri": "https://localhost:8080/"
        },
        "id": "fHpft4bm2mIy",
        "outputId": "c918aad3-b277-4e51-d89e-f4ade50d6d17"
      },
      "execution_count": null,
      "outputs": [
        {
          "output_type": "stream",
          "name": "stdout",
          "text": [
            "Enter year to be checked:2004\n",
            "The year is a leap year!\n"
          ]
        }
      ]
    },
    {
      "cell_type": "code",
      "source": [
        "n=int(input(\"Enter a number: \"))\n",
        "sum1 = 0\n",
        "while(n > 0):\n",
        "    sum1=sum1+n\n",
        "    n=n-1\n",
        "print(\"The sum of first n natural numbers is\",sum1)"
      ],
      "metadata": {
        "colab": {
          "base_uri": "https://localhost:8080/"
        },
        "id": "V-LieNfB7i5u",
        "outputId": "79aa4f4b-ec37-428b-ed26-2ca83ba0a568"
      },
      "execution_count": null,
      "outputs": [
        {
          "output_type": "stream",
          "name": "stdout",
          "text": [
            "Enter a number: 5\n",
            "The sum of first n natural numbers is 15\n"
          ]
        }
      ]
    },
    {
      "cell_type": "code",
      "source": [
        "def greet():\n",
        "  print('hello')\n",
        " "
      ],
      "metadata": {
        "id": "SheGpml9B9YQ"
      },
      "execution_count": null,
      "outputs": []
    },
    {
      "cell_type": "code",
      "source": [
        "greet()"
      ],
      "metadata": {
        "colab": {
          "base_uri": "https://localhost:8080/"
        },
        "id": "uyvHWcbvFqFR",
        "outputId": "766a580b-1d8c-4919-f18f-26555bba9507"
      },
      "execution_count": null,
      "outputs": [
        {
          "output_type": "stream",
          "name": "stdout",
          "text": [
            "hello\n"
          ]
        }
      ]
    },
    {
      "cell_type": "code",
      "source": [
        "def square(num1):\n",
        "  \n",
        "  print(num1*num1)\n"
      ],
      "metadata": {
        "id": "6WUtnVaJ6XbH"
      },
      "execution_count": null,
      "outputs": []
    },
    {
      "cell_type": "code",
      "source": [
        "square(3)"
      ],
      "metadata": {
        "colab": {
          "base_uri": "https://localhost:8080/"
        },
        "id": "sa2VZ5K3GHBU",
        "outputId": "897b759b-260f-41e1-a906-5380988d70f2"
      },
      "execution_count": null,
      "outputs": [
        {
          "output_type": "stream",
          "name": "stdout",
          "text": [
            "9\n"
          ]
        }
      ]
    },
    {
      "cell_type": "code",
      "source": [],
      "metadata": {
        "id": "LkUx_M1ieRPf"
      },
      "execution_count": null,
      "outputs": []
    },
    {
      "cell_type": "markdown",
      "source": [
        "assignmnt1"
      ],
      "metadata": {
        "id": "UwS1XJv3BJDU"
      }
    },
    {
      "cell_type": "code",
      "source": [
        "\n",
        "\n",
        "string1 = input(\"Enter the first string: \")\n",
        "string2 = input(\"Enter the second string: \")\n",
        "result_string = string1 + string2\n",
        "print(\"The length of the concatenated string is:\", len(result_string))\n"
      ],
      "metadata": {
        "id": "M8ecdzyJdttx",
        "colab": {
          "base_uri": "https://localhost:8080/"
        },
        "outputId": "7c471123-6a28-4a92-d942-3ead3006d364"
      },
      "execution_count": null,
      "outputs": [
        {
          "output_type": "stream",
          "name": "stdout",
          "text": [
            "Enter the first string: haii\n",
            "Enter the second string: azeya\n",
            "The length of the concatenated string is: 9\n"
          ]
        }
      ]
    },
    {
      "cell_type": "code",
      "source": [
        "\n",
        "lst = []\n",
        "num = int(input('How many numbers: '))\n",
        "for n in range(num):\n",
        "    numbers = int(input('Enter number '))\n",
        "    lst.append(numbers)\n",
        "print(\"Sum of elements in given list is :\", sum(lst))\n",
        "\n",
        "\n"
      ],
      "metadata": {
        "colab": {
          "base_uri": "https://localhost:8080/"
        },
        "id": "1jtXQA3OeX74",
        "outputId": "0fe0f000-899d-4cce-f1b1-a62d324540ba"
      },
      "execution_count": null,
      "outputs": [
        {
          "output_type": "stream",
          "name": "stdout",
          "text": [
            "How many numbers: 3\n",
            "Enter number 3\n",
            "Enter number 6\n",
            "Enter number 9\n",
            "Sum of elements in given list is : 18\n"
          ]
        }
      ]
    },
    {
      "cell_type": "code",
      "source": [
        "sentence = input(\"Please enter a sentence: \")\n",
        "print(\"Length of string:\", len(sentence))\n",
        "print(\"First half of string:\", sentence[:len(sentence)//2])\n"
      ],
      "metadata": {
        "colab": {
          "base_uri": "https://localhost:8080/"
        },
        "id": "2CJzdiW7eo3H",
        "outputId": "3ec8592d-7430-4ba3-9c76-0ec5be9d71cf"
      },
      "execution_count": null,
      "outputs": [
        {
          "output_type": "stream",
          "name": "stdout",
          "text": [
            "Please enter a sentence: hello azeya\n",
            "Length of string: 11\n",
            "First half of string: hello\n"
          ]
        }
      ]
    },
    {
      "cell_type": "code",
      "source": [
        "my_tuple = (78, 45, 32, 19, 82, 77, 40, 39)\n",
        "\n",
        "my_list = list(my_tuple)\n",
        "my_list[2] = 100\n",
        "my_tuple = tuple(my_list)\n",
        "print(\"Updated tuple:\", my_tuple)\n"
      ],
      "metadata": {
        "colab": {
          "base_uri": "https://localhost:8080/"
        },
        "id": "t1cUCj5Xfl4h",
        "outputId": "a9783b42-4565-40b1-c4a6-fae1386adbd0"
      },
      "execution_count": null,
      "outputs": [
        {
          "output_type": "stream",
          "name": "stdout",
          "text": [
            "Updated tuple: (78, 45, 100, 19, 82, 77, 40, 39)\n"
          ]
        }
      ]
    },
    {
      "cell_type": "code",
      "source": [
        "lstA = [19, 32, 10, 55, 31, 32, 94, 29, 10, 65, 77, 40, 40]\n",
        "lstA.remove(32)\n"
      ],
      "metadata": {
        "id": "qfXIBktQfxAx"
      },
      "execution_count": null,
      "outputs": []
    },
    {
      "cell_type": "code",
      "source": [
        "lstA = [elem for elem in lstA if elem != 40]\n",
        "\n"
      ],
      "metadata": {
        "id": "59cwnEGlgDmD"
      },
      "execution_count": null,
      "outputs": []
    },
    {
      "cell_type": "code",
      "source": [
        "del lstA[5]\n",
        "\n"
      ],
      "metadata": {
        "id": "eZvbiie4gIhP"
      },
      "execution_count": null,
      "outputs": []
    },
    {
      "cell_type": "code",
      "source": [
        "lstA[9] = 300\n"
      ],
      "metadata": {
        "id": "sJOkONPVgMb6"
      },
      "execution_count": null,
      "outputs": []
    },
    {
      "cell_type": "code",
      "source": [
        "lstA.insert(2, 200)\n"
      ],
      "metadata": {
        "id": "NcAvUs6agahv"
      },
      "execution_count": null,
      "outputs": []
    },
    {
      "cell_type": "code",
      "source": [
        "print(\"Final list:\", lstA)\n",
        "\n",
        "print(\"Length of the list:\", len(lstA))\n",
        "\n",
        "print(\"Maximum value in the list:\", max(lstA))\n",
        "\n",
        "print(\"Sum of all elements in the list:\", sum(lstA))"
      ],
      "metadata": {
        "colab": {
          "base_uri": "https://localhost:8080/"
        },
        "id": "WY7_ZhC1ggex",
        "outputId": "90f3bf45-47d7-4fe8-b9a7-8302c923ae83"
      },
      "execution_count": null,
      "outputs": [
        {
          "output_type": "stream",
          "name": "stdout",
          "text": [
            "Final list: [19, 10, 200, 55, 31, 32, 29, 10, 65, 300]\n",
            "Length of the list: 10\n",
            "Maximum value in the list: 300\n",
            "Sum of all elements in the list: 751\n"
          ]
        }
      ]
    }
  ]
}